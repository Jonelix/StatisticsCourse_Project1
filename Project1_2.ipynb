{
 "cells": [
  {
   "cell_type": "code",
   "execution_count": 1,
   "id": "c99bacd1",
   "metadata": {},
   "outputs": [],
   "source": [
    "import numpy as np\n"
   ]
  },
  {
   "cell_type": "markdown",
   "id": "8b2eb148",
   "metadata": {},
   "source": [
    "# TOOLS"
   ]
  },
  {
   "cell_type": "code",
   "execution_count": 2,
   "id": "cf9d9ec3",
   "metadata": {},
   "outputs": [],
   "source": [
    "# n_dice_prob\n",
    "def n_dice_prob(n: int) -> list[float]:\n",
    "    return (np.ones(n) / n).tolist()\n"
   ]
  },
  {
   "cell_type": "markdown",
   "id": "3d552ec1",
   "metadata": {},
   "source": [
    "# TASK 1 & 2"
   ]
  },
  {
   "cell_type": "code",
   "execution_count": 3,
   "id": "755cba54",
   "metadata": {},
   "outputs": [
    {
     "name": "stdout",
     "output_type": "stream",
     "text": [
      "Length of convolution: 46\n",
      "[2.17013889e-05 1.08506944e-04 3.25520833e-04 7.59548611e-04\n",
      " 1.49739583e-03 2.62586806e-03 4.21006944e-03 6.29340278e-03\n",
      " 8.87586806e-03 1.19140625e-02 1.53428819e-02 1.90755208e-02\n",
      " 2.30034722e-02 2.69965278e-02 3.09244792e-02 3.46571181e-02\n",
      " 3.80859375e-02 4.11241319e-02 4.37065972e-02 4.57899306e-02\n",
      " 4.73524306e-02 4.83940972e-02 4.89149306e-02 4.89149306e-02\n",
      " 4.83940972e-02 4.73524306e-02 4.57899306e-02 4.37065972e-02\n",
      " 4.11241319e-02 3.80859375e-02 3.46571181e-02 3.09244792e-02\n",
      " 2.69965278e-02 2.30034722e-02 1.90755208e-02 1.53428819e-02\n",
      " 1.19140625e-02 8.87586806e-03 6.29340278e-03 4.21006944e-03\n",
      " 2.62586806e-03 1.49739583e-03 7.59548611e-04 3.25520833e-04\n",
      " 1.08506944e-04 2.17013889e-05]\n"
     ]
    }
   ],
   "source": [
    "# Create the dice\n",
    "\n",
    "dice4 = n_dice_prob(4)\n",
    "dice6 = n_dice_prob(6)\n",
    "dice8 = n_dice_prob(8)\n",
    "dice12 = n_dice_prob(12)\n",
    "dice20 = n_dice_prob(20)\n",
    "\n",
    "# Convolve the dice\n",
    "\n",
    "convolution = np.convolve(dice4, dice6)\n",
    "convolution = np.convolve(convolution, dice8)\n",
    "convolution = np.convolve(convolution, dice12)\n",
    "convolution = np.convolve(convolution, dice20)\n",
    "\n",
    "print(\"Length of convolution:\", len(convolution))\n",
    "print(convolution)\n"
   ]
  },
  {
   "cell_type": "code",
   "execution_count": 4,
   "id": "a7a06ded",
   "metadata": {},
   "outputs": [
    {
     "name": "stdout",
     "output_type": "stream",
     "text": [
      "Sum of all indexes: 0.9999999999999999\n",
      "Probability of winning: 0.010677083333333332\n"
     ]
    }
   ],
   "source": [
    "# Sum indexes 0 to 5 (first 6)\n",
    "sum_0_5 = sum(convolution[0:6])\n",
    "\n",
    "# Sum last 6 indexes\n",
    "sum_last_6 = sum(convolution[-6:])\n",
    "\n",
    "# Sum of all indexes\n",
    "sum_all = sum(convolution)\n",
    "\n",
    "print(f\"Sum of all indexes: {sum_all}\")\n",
    "\n",
    "probability_win = sum_0_5 + sum_last_6\n",
    "\n",
    "print(\"Probability of winning:\", probability_win)"
   ]
  },
  {
   "cell_type": "code",
   "execution_count": 5,
   "id": "2fb6963f",
   "metadata": {},
   "outputs": [
    {
     "data": {
      "image/png": "[encoded data removed]",
      "text/plain": [
       "<Figure size 640x480 with 1 Axes>"
      ]
     },
     "metadata": {},
     "output_type": "display_data"
    }
   ],
   "source": [
    "import matplotlib.pyplot as plt\n",
    "\n",
    "# Plot\n",
    "plt.bar(range(5, 5+len(convolution)), convolution, width=1, edgecolor=\"black\")\n",
    "plt.title(f\"Probability Distribution for the 5 dice\")\n",
    "plt.xlabel(\"Combined value of die faces\")\n",
    "plt.ylabel(\"Probability\")\n",
    "plt.show()"
   ]
  },
  {
   "cell_type": "markdown",
   "id": "818380b4",
   "metadata": {},
   "source": [
    "# TASK 3"
   ]
  },
  {
   "cell_type": "code",
   "execution_count": 6,
   "id": "8aef3cc2",
   "metadata": {},
   "outputs": [],
   "source": [
    "def n_dice(n: int) -> list[int]:\n",
    "    return [i + 1 for i in range(n)]"
   ]
  },
  {
   "cell_type": "code",
   "execution_count": 7,
   "id": "4e9bfd93",
   "metadata": {},
   "outputs": [],
   "source": [
    "from numpy import random\n",
    "\n",
    "def monte_carlo_simulation(num_trials: int) -> float:\n",
    "    NumberOfTrials = num_trials\n",
    "    RecordResult = 0\n",
    "\n",
    "    for i in range(NumberOfTrials):\n",
    "        # Simulate the game\n",
    "        dice4 = random.randint(1, 5)\n",
    "        dice6 = random.randint(1, 7)\n",
    "        dice8 = random.randint(1, 9)\n",
    "        dice12 = random.randint(1, 13)\n",
    "        dice20 = random.randint(1, 21)\n",
    "\n",
    "        sum_dice = dice4 + dice6 + dice8 + dice12 + dice20\n",
    "\n",
    "        if sum_dice <= 10 or sum_dice >= 45:\n",
    "            RecordResult += 1\n",
    "\n",
    "    win = RecordResult / NumberOfTrials\n",
    "    #print(\"Probability of winning:\", win)\n",
    "    correct = 0.010677\n",
    "    #print(f\"Relative Error: {(np.abs(win-correct)/np.abs(correct)):.2f}\")\n",
    "    #print(f\"Relative Error: {np.abs(1 - (win/correct)):.2f}\")\n",
    "    return np.abs(win-correct)/np.abs(correct)"
   ]
  },
  {
   "cell_type": "code",
   "execution_count": null,
   "id": "d9d8019c",
   "metadata": {},
   "outputs": [],
   "source": []
  },
  {
   "cell_type": "code",
   "execution_count": 8,
   "id": "fcc7be16",
   "metadata": {},
   "outputs": [
    {
     "name": "stdout",
     "output_type": "stream",
     "text": [
      "Monte Carlo Simulation - 1000\n",
      "0.21757047859885723\n",
      "Monte Carlo Simulation - 10\n",
      "8.365926758452748\n",
      "Monte Carlo Simulation - 100000\n",
      "0.054041397396272464\n"
     ]
    }
   ],
   "source": [
    "\n",
    "print(\"Monte Carlo Simulation - 1000\")\n",
    "print(monte_carlo_simulation(1000))\n",
    "\n",
    "print(\"Monte Carlo Simulation - 10\")\n",
    "print(monte_carlo_simulation(10))\n",
    "\n",
    "print(\"Monte Carlo Simulation - 100000\")\n",
    "print(monte_carlo_simulation(100000))\n"
   ]
  },
  {
   "cell_type": "code",
   "execution_count": 9,
   "id": "fcaede2b",
   "metadata": {},
   "outputs": [],
   "source": [
    "answers = [0] * 10\n",
    "\n",
    "for m in range(1000):\n",
    "    for n in range(8):\n",
    "        trial_count = 1000 * (2**n)\n",
    "        error = monte_carlo_simulation(trial_count)\n",
    "        if error <= 0.1:\n",
    "            answers[n] += 1\n",
    "            break\n"
   ]
  },
  {
   "cell_type": "code",
   "execution_count": 12,
   "id": "35b1fae6",
   "metadata": {},
   "outputs": [
    {
     "data": {
      "image/png": "[encoded data removed]",
      "text/plain": [
       "<Figure size 640x480 with 1 Axes>"
      ]
     },
     "metadata": {},
     "output_type": "display_data"
    }
   ],
   "source": [
    "import matplotlib.pyplot as plt\n",
    "import numpy as np\n",
    "\n",
    "# Calculate frequencies of unique values in answer\n",
    "#unique, counts = np.unique(answer, return_counts=True)\n",
    "\n",
    "plt.bar(np.arange(len(answers)), answers, width=0.5, edgecolor=\"black\")\n",
    "plt.title(\"Number of trials needed to get: relative error (η) <= 0.1\")\n",
    "plt.xlabel(\"1000 * 2^n trials\")\n",
    "plt.ylabel(\"Iterations until η <= 0.1\")\n",
    "plt.show()"
   ]
  },
  {
   "cell_type": "code",
   "execution_count": 13,
   "id": "3b93f66f",
   "metadata": {},
   "outputs": [
    {
     "name": "stdout",
     "output_type": "stream",
     "text": [
      "Trials out of 1000 that reached   1000 : 271\n",
      "Trials out of 1000 that reached   2000 : 243\n",
      "Trials out of 1000 that reached   4000 : 245\n",
      "Trials out of 1000 that reached   8000 : 141\n",
      "Trials out of 1000 that reached  16000 : 82 \n",
      "Trials out of 1000 that reached  32000 : 17 \n",
      "Trials out of 1000 that reached  64000 : 1  \n",
      "Trials out of 1000 that reached 128000 : 0  \n",
      "Trials out of 1000 that reached 256000 : 0  \n",
      "Trials out of 1000 that reached 512000 : 0  \n"
     ]
    }
   ],
   "source": [
    "for i in range (len(answers)):\n",
    "    print(f\"Trials out of 1000 that reached {str(1000 * (2**i)):>6} : {answers[i]:<3}\")"
   ]
  }
 ],
 "metadata": {
  "kernelspec": {
   "display_name": "Python 3",
   "language": "python",
   "name": "python3"
  },
  "language_info": {
   "codemirror_mode": {
    "name": "ipython",
    "version": 3
   },
   "file_extension": ".py",
   "mimetype": "text/x-python",
   "name": "python",
   "nbconvert_exporter": "python",
   "pygments_lexer": "ipython3",
   "version": "3.13.7"
  }
 },
 "nbformat": 4,
 "nbformat_minor": 5
}
